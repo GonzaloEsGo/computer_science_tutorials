{
 "cells": [
  {
   "cell_type": "markdown",
   "metadata": {},
   "source": [
    "# Iterable Objects\n",
    "## Lists\n",
    "Arrays are called **Lists** in Python. They can contain any type of variable, and they can contain as many variables as you wish. We can select a member of a list by appending to its name its index between brackets (indices go from 0 to its lenght -1). Lists can also be iterated over in a very simple manner."
   ]
  },
  {
   "cell_type": "markdown",
   "metadata": {},
   "source": [
    "Create an empty list using `[]`. Unlike basic built-in types, arrays are **mutable**. You can append numbers and strings in order using `mylist.append()`."
   ]
  },
  {
   "cell_type": "code",
   "execution_count": 1,
   "metadata": {},
   "outputs": [
    {
     "name": "stdout",
     "output_type": "stream",
     "text": [
      "the list id is 1807294391040 and its length is 0\n",
      "the list id is 1807294391040 and its length is 1\n",
      "the list id is 1807294391040 and its length is 2\n",
      "the list id is 1807294391040 and its length is 3\n",
      "34\n",
      "hello\n",
      "5.0\n"
     ]
    }
   ],
   "source": [
    "# Create empty list with square brackets\n",
    "mylist = []\n",
    "print(\"the list id is {0} and its length is {1}\".format(id(mylist), len(mylist)))\n",
    "mylist.append(34)\n",
    "print(\"the list id is {0} and its length is {1}\".format(id(mylist), len(mylist)))\n",
    "\n",
    "mylist.append(\"hello\")\n",
    "print(\"the list id is {0} and its length is {1}\".format(id(mylist), len(mylist)))\n",
    "\n",
    "mylist.append(5.0)\n",
    "print(\"the list id is {0} and its length is {1}\".format(id(mylist), len(mylist)))\n",
    "\n",
    "print(mylist[0]) # prints first element\n",
    "print(mylist[1]) # prints second element\n",
    "print(mylist[2]) # prints third element"
   ]
  },
  {
   "cell_type": "markdown",
   "metadata": {},
   "source": [
    "Lists can also be initialized with an initial length and constant values, but regardless of the initialization, the list is always mutable can can be modified. Also, its members can be modified. "
   ]
  },
  {
   "cell_type": "code",
   "execution_count": 9,
   "metadata": {},
   "outputs": [
    {
     "name": "stdout",
     "output_type": "stream",
     "text": [
      "[1, 2, 3]\n",
      "['Red', 'Green', 'Blue']\n",
      "['Red', 'Orange', 'Blue']\n"
     ]
    }
   ],
   "source": [
    "mylist = [1, 2, 3]\n",
    "print(mylist)\n",
    "\n",
    "list2 = [\"Red\", \"Green\", \"Blue\"]\n",
    "print(list2)\n",
    "\n",
    "list2[1] = \"Orange\"\n",
    "print(list2)\n"
   ]
  },
  {
   "cell_type": "markdown",
   "metadata": {},
   "source": [
    "Accessing an index which does not exist generates an exception (an error)."
   ]
  },
  {
   "cell_type": "code",
   "execution_count": 2,
   "metadata": {},
   "outputs": [
    {
     "ename": "IndexError",
     "evalue": "list index out of range",
     "output_type": "error",
     "traceback": [
      "\u001b[0;31m---------------------------------------------------------------------------\u001b[0m",
      "\u001b[0;31mIndexError\u001b[0m                                Traceback (most recent call last)",
      "\u001b[0;32m<ipython-input-2-c7555aa57c73>\u001b[0m in \u001b[0;36m<module>\u001b[0;34m\u001b[0m\n\u001b[1;32m      1\u001b[0m \u001b[0mmylist\u001b[0m \u001b[0;34m=\u001b[0m \u001b[0;34m[\u001b[0m\u001b[0;36m1\u001b[0m\u001b[0;34m,\u001b[0m \u001b[0;36m2\u001b[0m\u001b[0;34m,\u001b[0m \u001b[0;36m3\u001b[0m\u001b[0;34m]\u001b[0m\u001b[0;34m\u001b[0m\u001b[0;34m\u001b[0m\u001b[0m\n\u001b[0;32m----> 2\u001b[0;31m \u001b[0mprint\u001b[0m\u001b[0;34m(\u001b[0m\u001b[0mmylist\u001b[0m\u001b[0;34m[\u001b[0m\u001b[0;36m10\u001b[0m\u001b[0;34m]\u001b[0m\u001b[0;34m)\u001b[0m  \u001b[0;31m# Won't work\u001b[0m\u001b[0;34m\u001b[0m\u001b[0;34m\u001b[0m\u001b[0m\n\u001b[0m",
      "\u001b[0;31mIndexError\u001b[0m: list index out of range"
     ]
    }
   ],
   "source": [
    "mylist = [1, 2, 3]\n",
    "print(mylist[10])  # Won't work"
   ]
  },
  {
   "cell_type": "markdown",
   "metadata": {},
   "source": [
    "### Arithmetic operators with lists\n",
    "Basic arithmetic operators can be used with Lists. \n",
    "\n",
    "Use the addition to join/concatenate lists:"
   ]
  },
  {
   "cell_type": "code",
   "execution_count": 10,
   "metadata": {},
   "outputs": [
    {
     "name": "stdout",
     "output_type": "stream",
     "text": [
      "[1, 2, 3, 4, 5, 6]\n"
     ]
    }
   ],
   "source": [
    "first = [1, 2, 3]\n",
    "second = [4, 5, 6]\n",
    "print(first + second)"
   ]
  },
  {
   "cell_type": "markdown",
   "metadata": {},
   "source": [
    "Use multiplication to replicate lists:"
   ]
  },
  {
   "cell_type": "code",
   "execution_count": 11,
   "metadata": {},
   "outputs": [
    {
     "name": "stdout",
     "output_type": "stream",
     "text": [
      "[1, 3, 5, 1, 3, 5, 1, 3, 5]\n"
     ]
    }
   ],
   "source": [
    "print([1, 3, 5] * 3)"
   ]
  },
  {
   "cell_type": "markdown",
   "metadata": {},
   "source": [
    "### Indexing and slicing\n",
    "\n",
    "We already showed that it is possible ot access individual members of a list with indices, by specifying the index of the member between brackets. If the index is greater or equal than zero, it indicates the position from the left of the array, if the indez is nagetive, it indicates the position from the end of the array.\n",
    "Slicing is used to fetch a given number of subsequent members of a list. the basic slicing syntax is [a:b] where b > a, it will return  the members from a to b-1 from left to right. \n",
    "We can add a third parameter to indexing to control the slice sequence [a:b:c] will return the members from a to b -1 in c steps:"
   ]
  },
  {
   "cell_type": "code",
   "execution_count": 8,
   "metadata": {},
   "outputs": [
    {
     "name": "stdout",
     "output_type": "stream",
     "text": [
      "1\n",
      "6\n",
      "[1, 2]\n",
      "[4, 5]\n",
      "[4, 3, 2]\n",
      "[2, 4, 6]\n",
      "[1, 3, 5]\n",
      "[6, 5, 4, 3, 2, 1]\n"
     ]
    }
   ],
   "source": [
    "my_list = [1, 2, 3, 4, 5, 6]\n",
    "print(my_list[0]) # non-negative index: from the beginning of list\n",
    "print(my_list[-1]) # negative index: from the end of the list\n",
    "print(my_list[0:2]) #Slicing the two first members\n",
    "print(my_list[-3:-1]) #slicing from the end of the list\n",
    "print(my_list[3:0:-1]) # slicing in reverse order\n",
    "print(my_list[1:len(my_list):2]) # Slicing even members\n",
    "print(my_list[::2]) # Slicing odd members (leave empty to use first and last)\n",
    "print(my_list[::-1]) # Invert list\n"
   ]
  },
  {
   "cell_type": "markdown",
   "metadata": {},
   "source": [
    "### Logical Operator in\n",
    "The logical operator ```in``` returns True if an array contains a specific member:"
   ]
  },
  {
   "cell_type": "code",
   "execution_count": null,
   "metadata": {},
   "outputs": [],
   "source": [
    "name = \"Paco\"\n",
    "if name in [\"Paco\", \"Pepe\"]:\n",
    "    print(\"Your name is either Paco or Pepe.\")"
   ]
  },
  {
   "cell_type": "markdown",
   "metadata": {},
   "source": [
    "## Strings\n",
    "As mentioned above, string functions are also iterable objects, meaning that we can use indexing and slicing:"
   ]
  },
  {
   "cell_type": "code",
   "execution_count": 6,
   "metadata": {},
   "outputs": [
    {
     "name": "stdout",
     "output_type": "stream",
     "text": [
      "e\n",
      " \n"
     ]
    }
   ],
   "source": [
    "text = \"Hello world!\"\n",
    "print(text[1])\n",
    "print(text[5])"
   ]
  },
  {
   "cell_type": "markdown",
   "metadata": {},
   "source": [
    "Slice a string."
   ]
  },
  {
   "cell_type": "code",
   "execution_count": 4,
   "metadata": {},
   "outputs": [
    {
     "name": "stdout",
     "output_type": "stream",
     "text": [
      "lo wor\n"
     ]
    }
   ],
   "source": [
    "text = \"Hello world!\"\n",
    "print(text[3:9])"
   ]
  },
  {
   "cell_type": "code",
   "execution_count": 5,
   "metadata": {},
   "outputs": [
    {
     "name": "stdout",
     "output_type": "stream",
     "text": [
      "l o\n"
     ]
    }
   ],
   "source": [
    "text = \"Hello world!\"\n",
    "print(text[3:9:2])"
   ]
  },
  {
   "cell_type": "markdown",
   "metadata": {},
   "source": [
    "As with lists, if you want to indicate the firts index or the last index, you should use empty indexes:"
   ]
  },
  {
   "cell_type": "code",
   "execution_count": 10,
   "metadata": {},
   "outputs": [
    {
     "name": "stdout",
     "output_type": "stream",
     "text": [
      " world!\n",
      "Hello w\n",
      "Hello world!\n"
     ]
    }
   ],
   "source": [
    "text = \"Hello world!\"\n",
    "# Prints from index 5 to the end\n",
    "print(text[5:])\n",
    "# Prints from the beginning to index 7 (excluded)\n",
    "print(text[:7])\n",
    "# Prints from the beginning to the end, which is the same as print(text)\n",
    "print(text[:])"
   ]
  },
  {
   "cell_type": "markdown",
   "metadata": {},
   "source": [
    "Can you use indexing to print a text in reverse order? Yes you can!"
   ]
  },
  {
   "cell_type": "code",
   "execution_count": 6,
   "metadata": {},
   "outputs": [
    {
     "name": "stdout",
     "output_type": "stream",
     "text": [
      "!dlrow olleH\n"
     ]
    }
   ],
   "source": [
    "text = \"Hello world!\"\n",
    "print(text[::-1])"
   ]
  },
  {
   "cell_type": "markdown",
   "metadata": {},
   "source": [
    "So, by all means  strings are iterable objects and therefore we can select individual characters as members, but recall that, just as any other built-in type, strings are **immutable** objects and therefore their members cannot be modified:"
   ]
  },
  {
   "cell_type": "code",
   "execution_count": 1,
   "metadata": {},
   "outputs": [
    {
     "name": "stdout",
     "output_type": "stream",
     "text": [
      "H\n"
     ]
    },
    {
     "ename": "TypeError",
     "evalue": "'str' object does not support item assignment",
     "output_type": "error",
     "traceback": [
      "\u001b[1;31m---------------------------------------------------------------------------\u001b[0m",
      "\u001b[1;31mTypeError\u001b[0m                                 Traceback (most recent call last)",
      "\u001b[1;32m<ipython-input-1-6c65d70045ae>\u001b[0m in \u001b[0;36m<module>\u001b[1;34m\u001b[0m\n\u001b[0;32m      1\u001b[0m \u001b[0mtext\u001b[0m \u001b[1;33m=\u001b[0m \u001b[1;34m\"Hello world!\"\u001b[0m\u001b[1;33m\u001b[0m\u001b[1;33m\u001b[0m\u001b[0m\n\u001b[0;32m      2\u001b[0m \u001b[0mprint\u001b[0m\u001b[1;33m(\u001b[0m\u001b[0mtext\u001b[0m\u001b[1;33m[\u001b[0m\u001b[1;36m0\u001b[0m\u001b[1;33m]\u001b[0m\u001b[1;33m)\u001b[0m\u001b[1;33m\u001b[0m\u001b[1;33m\u001b[0m\u001b[0m\n\u001b[1;32m----> 3\u001b[1;33m \u001b[0mtext\u001b[0m\u001b[1;33m[\u001b[0m\u001b[1;36m0\u001b[0m\u001b[1;33m]\u001b[0m \u001b[1;33m=\u001b[0m \u001b[1;34m\"h\"\u001b[0m \u001b[1;31m#this will not work\u001b[0m\u001b[1;33m\u001b[0m\u001b[1;33m\u001b[0m\u001b[0m\n\u001b[0m",
      "\u001b[1;31mTypeError\u001b[0m: 'str' object does not support item assignment"
     ]
    }
   ],
   "source": [
    "text = \"Hello world!\"\n",
    "print(text[0])\n",
    "text[0] = \"h\" #this will not work"
   ]
  }
 ],
 "metadata": {
  "interpreter": {
   "hash": "2db524e06e9f5f4ffedc911c917cb75e12dbc923643829bf417064a77eb14d37"
  },
  "kernelspec": {
   "display_name": "Python 3.8.1 64-bit",
   "name": "python3"
  },
  "language_info": {
   "codemirror_mode": {
    "name": "ipython",
    "version": 3
   },
   "file_extension": ".py",
   "mimetype": "text/x-python",
   "name": "python",
   "nbconvert_exporter": "python",
   "pygments_lexer": "ipython3",
   "version": "3.8.1"
  }
 },
 "nbformat": 4,
 "nbformat_minor": 4
}
